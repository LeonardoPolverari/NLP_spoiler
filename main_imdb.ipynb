{
 "cells": [
  {
   "cell_type": "code",
   "execution_count": 2,
   "metadata": {},
   "outputs": [],
   "source": [
    "import pandas as pd \n",
    "import numpy as np\n",
    "\n",
    "movies = pd.read_json('IMDB_movie_details.json', lines = True)\n",
    "reviews = pd.read_json('IMDB_reviews.json', lines = True)"
   ]
  },
  {
   "cell_type": "code",
   "execution_count": 2,
   "metadata": {},
   "outputs": [
    {
     "data": {
      "text/html": [
       "<div>\n",
       "<style scoped>\n",
       "    .dataframe tbody tr th:only-of-type {\n",
       "        vertical-align: middle;\n",
       "    }\n",
       "\n",
       "    .dataframe tbody tr th {\n",
       "        vertical-align: top;\n",
       "    }\n",
       "\n",
       "    .dataframe thead th {\n",
       "        text-align: right;\n",
       "    }\n",
       "</style>\n",
       "<table border=\"1\" class=\"dataframe\">\n",
       "  <thead>\n",
       "    <tr style=\"text-align: right;\">\n",
       "      <th></th>\n",
       "      <th>movie_id</th>\n",
       "      <th>plot_summary</th>\n",
       "      <th>duration</th>\n",
       "      <th>genre</th>\n",
       "      <th>rating</th>\n",
       "      <th>release_date</th>\n",
       "      <th>plot_synopsis</th>\n",
       "    </tr>\n",
       "  </thead>\n",
       "  <tbody>\n",
       "    <tr>\n",
       "      <th>0</th>\n",
       "      <td>tt0105112</td>\n",
       "      <td>Former CIA analyst, Jack Ryan is in England wi...</td>\n",
       "      <td>1h 57min</td>\n",
       "      <td>[Action, Thriller]</td>\n",
       "      <td>6.9</td>\n",
       "      <td>1992-06-05</td>\n",
       "      <td>Jack Ryan (Ford) is on a \"working vacation\" in...</td>\n",
       "    </tr>\n",
       "    <tr>\n",
       "      <th>1</th>\n",
       "      <td>tt1204975</td>\n",
       "      <td>Billy (Michael Douglas), Paddy (Robert De Niro...</td>\n",
       "      <td>1h 45min</td>\n",
       "      <td>[Comedy]</td>\n",
       "      <td>6.6</td>\n",
       "      <td>2013-11-01</td>\n",
       "      <td>Four boys around the age of 10 are friends in ...</td>\n",
       "    </tr>\n",
       "    <tr>\n",
       "      <th>2</th>\n",
       "      <td>tt0243655</td>\n",
       "      <td>The setting is Camp Firewood, the year 1981. I...</td>\n",
       "      <td>1h 37min</td>\n",
       "      <td>[Comedy, Romance]</td>\n",
       "      <td>6.7</td>\n",
       "      <td>2002-04-11</td>\n",
       "      <td></td>\n",
       "    </tr>\n",
       "    <tr>\n",
       "      <th>3</th>\n",
       "      <td>tt0040897</td>\n",
       "      <td>Fred C. Dobbs and Bob Curtin, both down on the...</td>\n",
       "      <td>2h 6min</td>\n",
       "      <td>[Adventure, Drama, Western]</td>\n",
       "      <td>8.3</td>\n",
       "      <td>1948-01-24</td>\n",
       "      <td>Fred Dobbs (Humphrey Bogart) and Bob Curtin (T...</td>\n",
       "    </tr>\n",
       "    <tr>\n",
       "      <th>4</th>\n",
       "      <td>tt0126886</td>\n",
       "      <td>Tracy Flick is running unopposed for this year...</td>\n",
       "      <td>1h 43min</td>\n",
       "      <td>[Comedy, Drama, Romance]</td>\n",
       "      <td>7.3</td>\n",
       "      <td>1999-05-07</td>\n",
       "      <td>Jim McAllister (Matthew Broderick) is a much-a...</td>\n",
       "    </tr>\n",
       "  </tbody>\n",
       "</table>\n",
       "</div>"
      ],
      "text/plain": [
       "    movie_id                                       plot_summary  duration  \\\n",
       "0  tt0105112  Former CIA analyst, Jack Ryan is in England wi...  1h 57min   \n",
       "1  tt1204975  Billy (Michael Douglas), Paddy (Robert De Niro...  1h 45min   \n",
       "2  tt0243655  The setting is Camp Firewood, the year 1981. I...  1h 37min   \n",
       "3  tt0040897  Fred C. Dobbs and Bob Curtin, both down on the...   2h 6min   \n",
       "4  tt0126886  Tracy Flick is running unopposed for this year...  1h 43min   \n",
       "\n",
       "                         genre  rating release_date  \\\n",
       "0           [Action, Thriller]     6.9   1992-06-05   \n",
       "1                     [Comedy]     6.6   2013-11-01   \n",
       "2            [Comedy, Romance]     6.7   2002-04-11   \n",
       "3  [Adventure, Drama, Western]     8.3   1948-01-24   \n",
       "4     [Comedy, Drama, Romance]     7.3   1999-05-07   \n",
       "\n",
       "                                       plot_synopsis  \n",
       "0  Jack Ryan (Ford) is on a \"working vacation\" in...  \n",
       "1  Four boys around the age of 10 are friends in ...  \n",
       "2                                                     \n",
       "3  Fred Dobbs (Humphrey Bogart) and Bob Curtin (T...  \n",
       "4  Jim McAllister (Matthew Broderick) is a much-a...  "
      ]
     },
     "execution_count": 2,
     "metadata": {},
     "output_type": "execute_result"
    }
   ],
   "source": [
    "movies.head()"
   ]
  },
  {
   "cell_type": "code",
   "execution_count": 3,
   "metadata": {},
   "outputs": [],
   "source": [
    "movies.movie_id = movies.movie_id.astype('str')\n",
    "reviews.movie_id = reviews.movie_id.astype('str')"
   ]
  },
  {
   "cell_type": "code",
   "execution_count": 4,
   "metadata": {},
   "outputs": [],
   "source": [
    "df = pd.merge(movies, reviews, on='movie_id')"
   ]
  },
  {
   "cell_type": "code",
   "execution_count": 5,
   "metadata": {},
   "outputs": [],
   "source": [
    "df['date_datetime'] = pd.to_datetime(df.review_date)"
   ]
  },
  {
   "cell_type": "code",
   "execution_count": 6,
   "metadata": {},
   "outputs": [],
   "source": [
    "df['date_datetime'] = df['date_datetime'].dt.year"
   ]
  },
  {
   "cell_type": "code",
   "execution_count": 35,
   "metadata": {},
   "outputs": [
    {
     "data": {
      "text/plain": [
       "date_datetime\n",
       "2017    45103\n",
       "2006    41529\n",
       "2015    40079\n",
       "2005    38394\n",
       "2014    37335\n",
       "2013    35828\n",
       "2016    34389\n",
       "2007    33722\n",
       "2008    32190\n",
       "2012    30052\n",
       "2010    28059\n",
       "2009    25996\n",
       "2011    24419\n",
       "2003    24013\n",
       "2002    22649\n",
       "2004    21640\n",
       "2001    19942\n",
       "2000    17286\n",
       "1999    16821\n",
       "1998     3932\n",
       "2018      528\n",
       "Name: count, dtype: int64"
      ]
     },
     "execution_count": 35,
     "metadata": {},
     "output_type": "execute_result"
    }
   ],
   "source": [
    "df['date_datetime'].value_counts()"
   ]
  },
  {
   "cell_type": "code",
   "execution_count": null,
   "metadata": {},
   "outputs": [],
   "source": [
    "import datetime as dt\n",
    "df['delta_time'] = dt.timedelta()"
   ]
  },
  {
   "cell_type": "code",
   "execution_count": 6,
   "metadata": {},
   "outputs": [
    {
     "data": {
      "text/html": [
       "<div>\n",
       "<style scoped>\n",
       "    .dataframe tbody tr th:only-of-type {\n",
       "        vertical-align: middle;\n",
       "    }\n",
       "\n",
       "    .dataframe tbody tr th {\n",
       "        vertical-align: top;\n",
       "    }\n",
       "\n",
       "    .dataframe thead th {\n",
       "        text-align: right;\n",
       "    }\n",
       "</style>\n",
       "<table border=\"1\" class=\"dataframe\">\n",
       "  <thead>\n",
       "    <tr style=\"text-align: right;\">\n",
       "      <th></th>\n",
       "      <th>movie_id</th>\n",
       "      <th>plot_summary</th>\n",
       "      <th>duration</th>\n",
       "      <th>genre</th>\n",
       "      <th>rating_x</th>\n",
       "      <th>release_date</th>\n",
       "      <th>plot_synopsis</th>\n",
       "      <th>review_date</th>\n",
       "      <th>user_id</th>\n",
       "      <th>is_spoiler</th>\n",
       "      <th>review_text</th>\n",
       "      <th>rating_y</th>\n",
       "      <th>review_summary</th>\n",
       "    </tr>\n",
       "  </thead>\n",
       "  <tbody>\n",
       "    <tr>\n",
       "      <th>0</th>\n",
       "      <td>tt0105112</td>\n",
       "      <td>Former CIA analyst, Jack Ryan is in England wi...</td>\n",
       "      <td>1h 57min</td>\n",
       "      <td>[Action, Thriller]</td>\n",
       "      <td>6.9</td>\n",
       "      <td>1992-06-05</td>\n",
       "      <td>Jack Ryan (Ford) is on a \"working vacation\" in...</td>\n",
       "      <td>5 March 2008</td>\n",
       "      <td>ur16517420</td>\n",
       "      <td>True</td>\n",
       "      <td>The second Tom Clancy novel made into a film (...</td>\n",
       "      <td>6</td>\n",
       "      <td>decent Clancy thriller</td>\n",
       "    </tr>\n",
       "    <tr>\n",
       "      <th>1</th>\n",
       "      <td>tt0105112</td>\n",
       "      <td>Former CIA analyst, Jack Ryan is in England wi...</td>\n",
       "      <td>1h 57min</td>\n",
       "      <td>[Action, Thriller]</td>\n",
       "      <td>6.9</td>\n",
       "      <td>1992-06-05</td>\n",
       "      <td>Jack Ryan (Ford) is on a \"working vacation\" in...</td>\n",
       "      <td>15 October 2007</td>\n",
       "      <td>ur13887584</td>\n",
       "      <td>True</td>\n",
       "      <td>The second in what looks like becoming the 'Ja...</td>\n",
       "      <td>7</td>\n",
       "      <td>Jack Ryan Chapter II</td>\n",
       "    </tr>\n",
       "    <tr>\n",
       "      <th>2</th>\n",
       "      <td>tt0105112</td>\n",
       "      <td>Former CIA analyst, Jack Ryan is in England wi...</td>\n",
       "      <td>1h 57min</td>\n",
       "      <td>[Action, Thriller]</td>\n",
       "      <td>6.9</td>\n",
       "      <td>1992-06-05</td>\n",
       "      <td>Jack Ryan (Ford) is on a \"working vacation\" in...</td>\n",
       "      <td>16 September 2013</td>\n",
       "      <td>ur2403537</td>\n",
       "      <td>True</td>\n",
       "      <td>I was not a fan of The Hunt For Red October. I...</td>\n",
       "      <td>8</td>\n",
       "      <td>It's filled to the brim with excitement and it...</td>\n",
       "    </tr>\n",
       "    <tr>\n",
       "      <th>3</th>\n",
       "      <td>tt0105112</td>\n",
       "      <td>Former CIA analyst, Jack Ryan is in England wi...</td>\n",
       "      <td>1h 57min</td>\n",
       "      <td>[Action, Thriller]</td>\n",
       "      <td>6.9</td>\n",
       "      <td>1992-06-05</td>\n",
       "      <td>Jack Ryan (Ford) is on a \"working vacation\" in...</td>\n",
       "      <td>15 May 2007</td>\n",
       "      <td>ur0819382</td>\n",
       "      <td>True</td>\n",
       "      <td>Jack Ryan (Harrison Ford) is a CIA analyst who...</td>\n",
       "      <td>7</td>\n",
       "      <td>Patriotic Gore.</td>\n",
       "    </tr>\n",
       "    <tr>\n",
       "      <th>4</th>\n",
       "      <td>tt0105112</td>\n",
       "      <td>Former CIA analyst, Jack Ryan is in England wi...</td>\n",
       "      <td>1h 57min</td>\n",
       "      <td>[Action, Thriller]</td>\n",
       "      <td>6.9</td>\n",
       "      <td>1992-06-05</td>\n",
       "      <td>Jack Ryan (Ford) is on a \"working vacation\" in...</td>\n",
       "      <td>29 February 2004</td>\n",
       "      <td>ur2567338</td>\n",
       "      <td>True</td>\n",
       "      <td>This was one of the big summer movies of 1992....</td>\n",
       "      <td>7</td>\n",
       "      <td>Harrison Ford In Another Tom Clancy Adaptation</td>\n",
       "    </tr>\n",
       "  </tbody>\n",
       "</table>\n",
       "</div>"
      ],
      "text/plain": [
       "    movie_id                                       plot_summary  duration  \\\n",
       "0  tt0105112  Former CIA analyst, Jack Ryan is in England wi...  1h 57min   \n",
       "1  tt0105112  Former CIA analyst, Jack Ryan is in England wi...  1h 57min   \n",
       "2  tt0105112  Former CIA analyst, Jack Ryan is in England wi...  1h 57min   \n",
       "3  tt0105112  Former CIA analyst, Jack Ryan is in England wi...  1h 57min   \n",
       "4  tt0105112  Former CIA analyst, Jack Ryan is in England wi...  1h 57min   \n",
       "\n",
       "                genre  rating_x release_date  \\\n",
       "0  [Action, Thriller]       6.9   1992-06-05   \n",
       "1  [Action, Thriller]       6.9   1992-06-05   \n",
       "2  [Action, Thriller]       6.9   1992-06-05   \n",
       "3  [Action, Thriller]       6.9   1992-06-05   \n",
       "4  [Action, Thriller]       6.9   1992-06-05   \n",
       "\n",
       "                                       plot_synopsis        review_date  \\\n",
       "0  Jack Ryan (Ford) is on a \"working vacation\" in...       5 March 2008   \n",
       "1  Jack Ryan (Ford) is on a \"working vacation\" in...    15 October 2007   \n",
       "2  Jack Ryan (Ford) is on a \"working vacation\" in...  16 September 2013   \n",
       "3  Jack Ryan (Ford) is on a \"working vacation\" in...        15 May 2007   \n",
       "4  Jack Ryan (Ford) is on a \"working vacation\" in...   29 February 2004   \n",
       "\n",
       "      user_id  is_spoiler                                        review_text  \\\n",
       "0  ur16517420        True  The second Tom Clancy novel made into a film (...   \n",
       "1  ur13887584        True  The second in what looks like becoming the 'Ja...   \n",
       "2   ur2403537        True  I was not a fan of The Hunt For Red October. I...   \n",
       "3   ur0819382        True  Jack Ryan (Harrison Ford) is a CIA analyst who...   \n",
       "4   ur2567338        True  This was one of the big summer movies of 1992....   \n",
       "\n",
       "   rating_y                                     review_summary  \n",
       "0         6                             decent Clancy thriller  \n",
       "1         7                               Jack Ryan Chapter II  \n",
       "2         8  It's filled to the brim with excitement and it...  \n",
       "3         7                                    Patriotic Gore.  \n",
       "4         7     Harrison Ford In Another Tom Clancy Adaptation  "
      ]
     },
     "execution_count": 6,
     "metadata": {},
     "output_type": "execute_result"
    }
   ],
   "source": [
    "df.head()"
   ]
  },
  {
   "cell_type": "code",
   "execution_count": 32,
   "metadata": {},
   "outputs": [
    {
     "data": {
      "text/plain": [
       "genre\n",
       "[Action, Adventure, Sci-Fi]     39842\n",
       "[Action, Adventure, Fantasy]    22658\n",
       "[Crime, Drama]                  19258\n",
       "[Drama]                         17976\n",
       "[Drama, Romance]                16418\n",
       "                                ...  \n",
       "[Action, Comedy, Family]           34\n",
       "[Adventure, Family, Romance]       32\n",
       "[Comedy, Crime, Fantasy]           25\n",
       "[Romance]                          18\n",
       "[Family, Fantasy, Music]           12\n",
       "Name: count, Length: 237, dtype: int64"
      ]
     },
     "execution_count": 32,
     "metadata": {},
     "output_type": "execute_result"
    }
   ],
   "source": [
    "df.genre.value_counts()"
   ]
  },
  {
   "cell_type": "code",
   "execution_count": 21,
   "metadata": {},
   "outputs": [],
   "source": [
    "tot_gen = [df['genre'][i][0]  for i in range(len(df))]"
   ]
  },
  {
   "cell_type": "code",
   "execution_count": 30,
   "metadata": {},
   "outputs": [],
   "source": [
    "gen_lens = [len(df.genre[i]) for i in range(len(df))]"
   ]
  },
  {
   "cell_type": "code",
   "execution_count": null,
   "metadata": {},
   "outputs": [],
   "source": []
  },
  {
   "cell_type": "code",
   "execution_count": 31,
   "metadata": {},
   "outputs": [
    {
     "data": {
      "text/plain": [
       "(array([ 36876.,      0.,      0.,      0.,      0., 125233.,      0.,\n",
       "             0.,      0., 411797.]),\n",
       " array([1. , 1.2, 1.4, 1.6, 1.8, 2. , 2.2, 2.4, 2.6, 2.8, 3. ]),\n",
       " <BarContainer object of 10 artists>)"
      ]
     },
     "execution_count": 31,
     "metadata": {},
     "output_type": "execute_result"
    },
    {
     "data": {
      "image/png": "[encoded data removed]",
      "text/plain": [
       "<Figure size 640x480 with 1 Axes>"
      ]
     },
     "metadata": {},
     "output_type": "display_data"
    }
   ],
   "source": [
    "plt.hist(gen_lens)"
   ]
  },
  {
   "cell_type": "code",
   "execution_count": 10,
   "metadata": {},
   "outputs": [
    {
     "data": {
      "text/plain": [
       "is_spoiler\n",
       "False    0.737023\n",
       "True     0.262977\n",
       "Name: proportion, dtype: float64"
      ]
     },
     "execution_count": 10,
     "metadata": {},
     "output_type": "execute_result"
    }
   ],
   "source": [
    "df.is_spoiler.value_counts(normalize = True)"
   ]
  },
  {
   "cell_type": "code",
   "execution_count": 8,
   "metadata": {},
   "outputs": [
    {
     "data": {
      "text/plain": [
       "movie_id   plot_summary                                                                                                                                                                                                                                                                                                                                                                                                                                                                                                                                                                                                                                                                                                                                                                                                                                                                                                                                                                                                                                                           \n",
       "tt0012349  The opening title reads: \"A comedy with a smile--and perhaps a tear\". As she leaves the charity hospital and passes a church wedding, Edna deposits her new baby with a pleading note in a limousine and goes off to commit suicide. The limo is stolen by thieves who dump the baby by a garbage can. Charlie the Tramp finds the baby and makes a home for him. Five years later Edna has become an opera star but does charity work for slum youngsters in hope of finding her boy. A doctor called by Edna discovers the note with the truth about the Kid and reports it to the authorities who come to take him away from Charlie. Before he arrives at the Orphan Asylum Charlie steals him back and takes him to a flophouse. The proprietor reads of a reward for the Kid and takes him to Edna. Charlie is later awakened by a kind policeman who reunites him with the Kid at Edna's mansion.                Written by\\nEd Stephan <stephan@cc.wwu.edu>                                                                                                        104\n",
       "tt0015864  A lone prospector ventures into Alaska looking for gold. He gets mixed up with some burly characters and falls in love with the beautiful Georgia. He tries to win her heart with his singular charm.                Written by\\nJohn J. Magee <magee@helix.mgh.harvard.edu>                                                                                                                                                                                                                                                                                                                                                                                                                                                                                                                                                                                                                                                                                                                                                                                               128\n",
       "tt0017136  Sometime in the future, the city of Metropolis is home to a Utopian society where its wealthy residents live a carefree life. One of those is Freder Fredersen. One day, he spots a beautiful woman with a group of children, she and the children quickly disappear. Trying to follow her, he is horrified to find an underground world of workers who apparently run the machinery that keeps the Utopian world above ground functioning. One of the few people above ground who knows about the world below is Freder's father, John Fredersen, who is the founder and master of Metropolis. Freder learns that the woman is called Maria, who espouses the need to join the \"hands\" - the workers - to the \"head\" - those in power above - by a mediator who will act as the \"heart\". Freder wants to help the plight of the workers in their struggle for a better life. But when John learns of what Maria is advocating and that Freder has joined their cause, with the assistance of an old colleague. an inventor called ...                Written by\\nHuggo    337\n",
       "tt0017925  Johnnie loves his train (\"The General\") and Annabelle Lee. When the Civil War begins he is turned down for service because he's more valuable as an engineer. Annabelle thinks it's because he's a coward. Union spies capture The General with Annabelle on board. Johnnie must rescue both his loves.                Written by\\nEd Stephan <stephan@cc.wwu.edu>                                                                                                                                                                                                                                                                                                                                                                                                                                                                                                                                                                                                                                                                                                         192\n",
       "tt0018455  In this fable-morality subtitled \"A Song of Two Humans\", the \"evil\" temptress is a city woman who bewitches farmer Anses and tries to convince him to murder his neglected wife, Indre.                Written by\\nalfiehitchie                                                                                                                                                                                                                                                                                                                                                                                                                                                                                                                                                                                                                                                                                                                                                                                                                                            178\n",
       "                                                                                                                                                                                                                                                                                                                                                                                                                                                                                                                                                                                                                                                                                                                                                                                                                                                                                                                                                                                                                                                                                     ... \n",
       "tt6048596  Follows the story of a young woman who commits a horrific act of violence and rage, and to her surprise, has no idea why. And the investigator who becomes obsessed with the case and is determined to dig into her past and figure out \"why\" this is happening.                                                                                                                                                                                                                                                                                                                                                                                                                                                                                                                                                                                                                                                                                                                                                                                                            75\n",
       "tt6294822  A cover-up that spanned four U.S. Presidents pushed the country's first female newspaper publisher and a hard-driving editor to join an unprecedented battle between journalist and government.                                                                                                                                                                                                                                                                                                                                                                                                                                                                                                                                                                                                                                                                                                                                                                                                                                                                             11\n",
       "tt6868216  The old gang comes together during the holidays after a mystery assailant targets one of their own.                                                                                                                                                                                                                                                                                                                                                                                                                                                                                                                                                                                                                                                                                                                                                                                                                                                                                                                                                                         13\n",
       "tt7608418  When a reporter goes undercover as a tutor to get the inside scoop on a playboy prince, she gets tangled in some royal intrigue and ends up finding love - but will she be able to keep up her lie?                                                                                                                                                                                                                                                                                                                                                                                                                                                                                                                                                                                                                                                                                                                                                                                                                                                                         39\n",
       "tt7608534  Before ambitious heiress Ellen Langford can inherit her father's gift business, she must deliver a special Christmas card to her dad's former partner in Snow Falls, the hometown she never knew. When a snowstorm strands her at the town inn, she's forced to work for her keep, and in the process, finds romance and discovers the true gift of Christmas.                Written by\\nMPCA                                                                                                                                                                                                                                                                                                                                                                                                                                                                                                                                                                                                                                                                              18\n",
       "Name: count, Length: 1570, dtype: int64"
      ]
     },
     "execution_count": 8,
     "metadata": {},
     "output_type": "execute_result"
    }
   ],
   "source": [
    "df.plot_summary.groupby(df.movie_id).value_counts()"
   ]
  },
  {
   "cell_type": "code",
   "execution_count": 78,
   "metadata": {},
   "outputs": [
    {
     "data": {
      "text/plain": [
       "movie_id   is_spoiler\n",
       "tt0012349  False         0.750000\n",
       "           True          0.250000\n",
       "tt0015864  False         0.695312\n",
       "           True          0.304688\n",
       "tt0017136  False         0.783383\n",
       "                           ...   \n",
       "tt6868216  True          0.384615\n",
       "tt7608418  False         0.794872\n",
       "           True          0.205128\n",
       "tt7608534  False         0.611111\n",
       "           True          0.388889\n",
       "Name: proportion, Length: 3140, dtype: float64"
      ]
     },
     "execution_count": 78,
     "metadata": {},
     "output_type": "execute_result"
    }
   ],
   "source": [
    "df.is_spoiler.groupby(df.movie_id).value_counts(normalize = True)"
   ]
  },
  {
   "cell_type": "code",
   "execution_count": 75,
   "metadata": {},
   "outputs": [
    {
     "data": {
      "image/png": "[encoded data removed]",
      "text/plain": [
       "<Figure size 2200x1000 with 2 Axes>"
      ]
     },
     "metadata": {},
     "output_type": "display_data"
    }
   ],
   "source": [
    "fig, (ax1, ax2) = plt.subplots(1, 2, figsize=(22, 10))\n",
    "colors  = ['g', 'r']\n",
    "crosstab = pd.crosstab(df.date_datetime, df['is_spoiler'].values, normalize= 'index' )\n",
    "crosstab.plot(kind='bar', stacked=True, ax=ax1)\n",
    "ax1.set_title('Count of Spoilers over time')\n",
    "ax1.set_xlabel('Genres')\n",
    "ax1.set_ylabel('Count of Spoilers')\n",
    "ax1.legend(title='Spoilers')\n",
    "\n",
    "crosstab = pd.crosstab(df.date_datetime, df['is_spoiler'].values, normalize= True )\n",
    "crosstab.plot(kind='bar', stacked=True, ax=ax2) \n",
    "ax2.set_title('Count of Spoilers over time')\n",
    "ax2.set_xlabel('Genres')\n",
    "ax2.set_ylabel('Count of Spoilers')\n",
    "ax2.legend(title='Spoilers')\n",
    "plt.show()"
   ]
  },
  {
   "cell_type": "code",
   "execution_count": null,
   "metadata": {},
   "outputs": [],
   "source": []
  }
 ],
 "metadata": {
  "kernelspec": {
   "display_name": "my_global_env",
   "language": "python",
   "name": "python3"
  },
  "language_info": {
   "codemirror_mode": {
    "name": "ipython",
    "version": 3
   },
   "file_extension": ".py",
   "mimetype": "text/x-python",
   "name": "python",
   "nbconvert_exporter": "python",
   "pygments_lexer": "ipython3",
   "version": "3.11.8"
  }
 },
 "nbformat": 4,
 "nbformat_minor": 2
}
