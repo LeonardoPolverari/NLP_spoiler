{
 "cells": [
  {
   "cell_type": "code",
   "execution_count": null,
   "metadata": {},
   "outputs": [],
   "source": [
    "import pandas as pd\n",
    "import numpy as np\n",
    "import matplotlib.pyplot as plt\n",
    "import seaborn as sns\n"
   ]
  },
  {
   "cell_type": "code",
   "execution_count": null,
   "metadata": {},
   "outputs": [],
   "source": [
    "movies = pd.read_csv('data/IMDB_movie_details.csv').reset_index(drop=True)\n",
    "reviews = pd.read_json('data/IMDB_reviews.json', lines = True)\n",
    "\n",
    "movies.movie_id = movies.movie_id.astype('str')\n",
    "reviews.movie_id = reviews.movie_id.astype('str')\n",
    "\n",
    "df = pd.merge(movies, reviews, on='movie_id')"
   ]
  },
  {
   "cell_type": "code",
   "execution_count": null,
   "metadata": {},
   "outputs": [],
   "source": [
    "df['date_datetime'] = pd.to_datetime(df.review_date)"
   ]
  },
  {
   "cell_type": "code",
   "execution_count": null,
   "metadata": {},
   "outputs": [],
   "source": [
    "df['date_datetime'] = df['date_datetime'].dt.year"
   ]
  },
  {
   "cell_type": "code",
   "execution_count": null,
   "metadata": {},
   "outputs": [],
   "source": [
    "df['date_datetime'].value_counts()"
   ]
  },
  {
   "cell_type": "code",
   "execution_count": null,
   "metadata": {},
   "outputs": [],
   "source": [
    "gen_lens = [len(df.genre[i]) for i in range(len(df))]\n",
    "plt.hist(gen_lens)"
   ]
  },
  {
   "cell_type": "markdown",
   "metadata": {},
   "source": [
    "Spoiler focused"
   ]
  },
  {
   "cell_type": "code",
   "execution_count": null,
   "metadata": {},
   "outputs": [],
   "source": [
    "df.is_spoiler.value_counts(normalize = True)"
   ]
  },
  {
   "cell_type": "code",
   "execution_count": null,
   "metadata": {},
   "outputs": [],
   "source": [
    "df.is_spoiler.groupby(df.movie_id).value_counts(normalize = True)"
   ]
  },
  {
   "cell_type": "code",
   "execution_count": null,
   "metadata": {},
   "outputs": [],
   "source": [
    "fig, (ax1, ax2) = plt.subplots(1, 2, figsize=(22, 10))\n",
    "colors  = ['g', 'r']\n",
    "crosstab = pd.crosstab(df.date_datetime, df['is_spoiler'].values, normalize= 'index' )\n",
    "crosstab.plot(kind='bar', stacked=True, ax=ax1)\n",
    "ax1.set_title('Count of Spoilers over time')\n",
    "ax1.set_xlabel('Genres')\n",
    "ax1.set_ylabel('Count of Spoilers')\n",
    "ax1.legend(title='Spoilers')\n",
    "\n",
    "crosstab = pd.crosstab(df.date_datetime, df['is_spoiler'].values, normalize= True )\n",
    "crosstab.plot(kind='bar', stacked=True, ax=ax2) \n",
    "ax2.set_title('Count of Spoilers over time')\n",
    "ax2.set_xlabel('Genres')\n",
    "ax2.set_ylabel('Count of Spoilers')\n",
    "ax2.legend(title='Spoilers')\n",
    "plt.show()"
   ]
  }
 ],
 "metadata": {
  "language_info": {
   "name": "python"
  }
 },
 "nbformat": 4,
 "nbformat_minor": 2
}
